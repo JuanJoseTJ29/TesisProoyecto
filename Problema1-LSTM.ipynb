{
 "cells": [
  {
   "cell_type": "code",
   "metadata": {
    "tags": [],
    "deepnote_to_be_reexecuted": false,
    "source_hash": "74f06fe8",
    "execution_start": 1643421833444,
    "execution_millis": 4663,
    "cell_id": "0a0972a7-692f-4bba-b25b-27b86bc0189c",
    "deepnote_cell_type": "code"
   },
   "source": "!pip install pandas_datareader==0.10.0",
   "execution_count": 1,
   "outputs": [
    {
     "name": "stdout",
     "text": "Requirement already satisfied: pandas_datareader==0.10.0 in /root/venv/lib/python3.7/site-packages (0.10.0)\nRequirement already satisfied: lxml in /shared-libs/python3.7/py/lib/python3.7/site-packages (from pandas_datareader==0.10.0) (4.7.1)\nRequirement already satisfied: pandas>=0.23 in /shared-libs/python3.7/py/lib/python3.7/site-packages (from pandas_datareader==0.10.0) (1.2.5)\nRequirement already satisfied: requests>=2.19.0 in /shared-libs/python3.7/py/lib/python3.7/site-packages (from pandas_datareader==0.10.0) (2.26.0)\nRequirement already satisfied: numpy>=1.16.5 in /shared-libs/python3.7/py/lib/python3.7/site-packages (from pandas>=0.23->pandas_datareader==0.10.0) (1.19.5)\nRequirement already satisfied: python-dateutil>=2.7.3 in /shared-libs/python3.7/py-core/lib/python3.7/site-packages (from pandas>=0.23->pandas_datareader==0.10.0) (2.8.2)\nRequirement already satisfied: pytz>=2017.3 in /shared-libs/python3.7/py/lib/python3.7/site-packages (from pandas>=0.23->pandas_datareader==0.10.0) (2021.3)\nRequirement already satisfied: charset-normalizer~=2.0.0; python_version >= \"3\" in /shared-libs/python3.7/py-core/lib/python3.7/site-packages (from requests>=2.19.0->pandas_datareader==0.10.0) (2.0.9)\nRequirement already satisfied: idna<4,>=2.5; python_version >= \"3\" in /shared-libs/python3.7/py-core/lib/python3.7/site-packages (from requests>=2.19.0->pandas_datareader==0.10.0) (3.3)\nRequirement already satisfied: certifi>=2017.4.17 in /shared-libs/python3.7/py/lib/python3.7/site-packages (from requests>=2.19.0->pandas_datareader==0.10.0) (2021.10.8)\nRequirement already satisfied: urllib3<1.27,>=1.21.1 in /shared-libs/python3.7/py/lib/python3.7/site-packages (from requests>=2.19.0->pandas_datareader==0.10.0) (1.26.7)\nRequirement already satisfied: six>=1.5 in /shared-libs/python3.7/py-core/lib/python3.7/site-packages (from python-dateutil>=2.7.3->pandas>=0.23->pandas_datareader==0.10.0) (1.16.0)\n\u001b[33mWARNING: You are using pip version 20.1.1; however, version 21.3.1 is available.\nYou should consider upgrading via the '/root/venv/bin/python -m pip install --upgrade pip' command.\u001b[0m\n",
     "output_type": "stream"
    }
   ]
  },
  {
   "cell_type": "code",
   "metadata": {
    "cell_id": "ba73b3b7-8ef2-46a4-8fa4-09d9fecbab36",
    "tags": [],
    "deepnote_to_be_reexecuted": false,
    "source_hash": "8af69cff",
    "execution_start": 1643421838116,
    "execution_millis": 1546,
    "deepnote_cell_type": "code"
   },
   "source": "import numpy as np\nimport pandas as pd\nimport matplotlib.pyplot as plt\nimport pandas_datareader as data",
   "execution_count": 2,
   "outputs": []
  },
  {
   "cell_type": "code",
   "metadata": {
    "cell_id": "0124111f-b061-4527-91eb-97ae257ccd47",
    "tags": [],
    "deepnote_to_be_reexecuted": false,
    "source_hash": "b6fd828c",
    "execution_start": 1643421839670,
    "execution_millis": 6,
    "deepnote_cell_type": "code"
   },
   "source": "start = '01-02-2002' #Esto es para tomar datos de la data de ese intervalo\nend = '24-01-2022'   # se cambio esto '2022-01-20' 01-02-2002",
   "execution_count": 3,
   "outputs": []
  },
  {
   "cell_type": "code",
   "metadata": {
    "cell_id": "54b58f37-9ef0-4c60-aba5-24c1e5bea0af",
    "tags": [],
    "deepnote_to_be_reexecuted": false,
    "source_hash": "37c6ce7",
    "execution_start": 1643421839684,
    "execution_millis": 10,
    "deepnote_cell_type": "code"
   },
   "source": "df = pd.read_csv('PeruTipoDeCambioN.csv')",
   "execution_count": 4,
   "outputs": []
  },
  {
   "cell_type": "code",
   "metadata": {
    "cell_id": "2d51af27-7a6a-44bb-aa8c-dbbb8f91268e",
    "tags": [],
    "deepnote_to_be_reexecuted": false,
    "source_hash": "c085b6ba",
    "execution_start": 1643421839729,
    "execution_millis": 19,
    "deepnote_cell_type": "code"
   },
   "source": "df.head()",
   "execution_count": 5,
   "outputs": [
    {
     "output_type": "execute_result",
     "execution_count": 5,
     "data": {
      "application/vnd.deepnote.dataframe.v3+json": {
       "column_count": 3,
       "row_count": 5,
       "columns": [
        {
         "name": "Fecha_Cambio",
         "dtype": "object",
         "stats": {
          "unique_count": 5,
          "nan_count": 0,
          "categories": [
           {
            "name": "2002-02-01",
            "count": 1
           },
           {
            "name": "2002-02-04",
            "count": 1
           },
           {
            "name": "3 others",
            "count": 3
           }
          ]
         }
        },
        {
         "name": "TC_Soles_Dolares",
         "dtype": "float64",
         "stats": {
          "unique_count": 5,
          "nan_count": 0,
          "min": "3.4757",
          "max": "3.4858",
          "histogram": [
           {
            "bin_start": 3.4757,
            "bin_end": 3.4767099999999997,
            "count": 1
           },
           {
            "bin_start": 3.4767099999999997,
            "bin_end": 3.4777199999999997,
            "count": 0
           },
           {
            "bin_start": 3.4777199999999997,
            "bin_end": 3.4787299999999997,
            "count": 0
           },
           {
            "bin_start": 3.4787299999999997,
            "bin_end": 3.4797399999999996,
            "count": 0
           },
           {
            "bin_start": 3.4797399999999996,
            "bin_end": 3.4807499999999996,
            "count": 0
           },
           {
            "bin_start": 3.4807499999999996,
            "bin_end": 3.48176,
            "count": 0
           },
           {
            "bin_start": 3.48176,
            "bin_end": 3.48277,
            "count": 1
           },
           {
            "bin_start": 3.48277,
            "bin_end": 3.48378,
            "count": 1
           },
           {
            "bin_start": 3.48378,
            "bin_end": 3.48479,
            "count": 1
           },
           {
            "bin_start": 3.48479,
            "bin_end": 3.4858,
            "count": 1
           }
          ]
         }
        },
        {
         "name": "TC_Soles_Euros",
         "dtype": "float64",
         "stats": {
          "unique_count": 5,
          "nan_count": 0,
          "min": "2.94",
          "max": "3.013",
          "histogram": [
           {
            "bin_start": 2.94,
            "bin_end": 2.9473,
            "count": 2
           },
           {
            "bin_start": 2.9473,
            "bin_end": 2.9546,
            "count": 0
           },
           {
            "bin_start": 2.9546,
            "bin_end": 2.9619,
            "count": 0
           },
           {
            "bin_start": 2.9619,
            "bin_end": 2.9692,
            "count": 0
           },
           {
            "bin_start": 2.9692,
            "bin_end": 2.9764999999999997,
            "count": 0
           },
           {
            "bin_start": 2.9764999999999997,
            "bin_end": 2.9838,
            "count": 0
           },
           {
            "bin_start": 2.9838,
            "bin_end": 2.9911,
            "count": 1
           },
           {
            "bin_start": 2.9911,
            "bin_end": 2.9983999999999997,
            "count": 0
           },
           {
            "bin_start": 2.9983999999999997,
            "bin_end": 3.0057,
            "count": 1
           },
           {
            "bin_start": 3.0057,
            "bin_end": 3.013,
            "count": 1
           }
          ]
         }
        },
        {
         "name": "_deepnote_index_column",
         "dtype": "int64"
        }
       ],
       "rows": [
        {
         "Fecha_Cambio": "2002-02-01",
         "TC_Soles_Dolares": 3.4757,
         "TC_Soles_Euros": 2.989,
         "_deepnote_index_column": 0
        },
        {
         "Fecha_Cambio": "2002-02-04",
         "TC_Soles_Dolares": 3.4824,
         "TC_Soles_Euros": 2.94,
         "_deepnote_index_column": 1
        },
        {
         "Fecha_Cambio": "2002-02-05",
         "TC_Soles_Dolares": 3.4846,
         "TC_Soles_Euros": 2.999,
         "_deepnote_index_column": 2
        },
        {
         "Fecha_Cambio": "2002-02-06",
         "TC_Soles_Dolares": 3.4858,
         "TC_Soles_Euros": 2.946,
         "_deepnote_index_column": 3
        },
        {
         "Fecha_Cambio": "2002-02-07",
         "TC_Soles_Dolares": 3.4835,
         "TC_Soles_Euros": 3.013,
         "_deepnote_index_column": 4
        }
       ]
      },
      "text/plain": "  Fecha_Cambio  TC_Soles_Dolares  TC_Soles_Euros\n0   2002-02-01            3.4757           2.989\n1   2002-02-04            3.4824           2.940\n2   2002-02-05            3.4846           2.999\n3   2002-02-06            3.4858           2.946\n4   2002-02-07            3.4835           3.013",
      "text/html": "<div>\n<style scoped>\n    .dataframe tbody tr th:only-of-type {\n        vertical-align: middle;\n    }\n\n    .dataframe tbody tr th {\n        vertical-align: top;\n    }\n\n    .dataframe thead th {\n        text-align: right;\n    }\n</style>\n<table border=\"1\" class=\"dataframe\">\n  <thead>\n    <tr style=\"text-align: right;\">\n      <th></th>\n      <th>Fecha_Cambio</th>\n      <th>TC_Soles_Dolares</th>\n      <th>TC_Soles_Euros</th>\n    </tr>\n  </thead>\n  <tbody>\n    <tr>\n      <th>0</th>\n      <td>2002-02-01</td>\n      <td>3.4757</td>\n      <td>2.989</td>\n    </tr>\n    <tr>\n      <th>1</th>\n      <td>2002-02-04</td>\n      <td>3.4824</td>\n      <td>2.940</td>\n    </tr>\n    <tr>\n      <th>2</th>\n      <td>2002-02-05</td>\n      <td>3.4846</td>\n      <td>2.999</td>\n    </tr>\n    <tr>\n      <th>3</th>\n      <td>2002-02-06</td>\n      <td>3.4858</td>\n      <td>2.946</td>\n    </tr>\n    <tr>\n      <th>4</th>\n      <td>2002-02-07</td>\n      <td>3.4835</td>\n      <td>3.013</td>\n    </tr>\n  </tbody>\n</table>\n</div>"
     },
     "metadata": {}
    }
   ]
  },
  {
   "cell_type": "code",
   "source": "df['Fecha_Cambio'] = pd.to_datetime(df['Fecha_Cambio'])",
   "metadata": {
    "cell_id": "6aedfe4e-3c9f-4a86-a926-a2bb0620b5b5",
    "tags": [],
    "deepnote_to_be_reexecuted": false,
    "source_hash": "a91879a",
    "execution_start": 1643421839754,
    "execution_millis": 5,
    "deepnote_cell_type": "code"
   },
   "outputs": [],
   "execution_count": 6
  },
  {
   "cell_type": "code",
   "source": "df = df.set_index(\"Fecha_Cambio\")",
   "metadata": {
    "cell_id": "f3b4f1f7-29e8-408f-a352-9e9fba2b33a7",
    "tags": [],
    "deepnote_to_be_reexecuted": false,
    "source_hash": "8bcb3e42",
    "execution_start": 1643421839806,
    "execution_millis": 0,
    "deepnote_cell_type": "code"
   },
   "outputs": [],
   "execution_count": 7
  },
  {
   "cell_type": "code",
   "metadata": {
    "cell_id": "be52f7f6-5bce-4cdf-be46-2f20f5df7a9c",
    "tags": [],
    "deepnote_to_be_reexecuted": false,
    "source_hash": "838c0c28",
    "execution_start": 1643421839827,
    "execution_millis": 2,
    "deepnote_cell_type": "code"
   },
   "source": "df.tail()",
   "execution_count": 8,
   "outputs": [
    {
     "output_type": "execute_result",
     "execution_count": 8,
     "data": {
      "application/vnd.deepnote.dataframe.v3+json": {
       "column_count": 2,
       "row_count": 5,
       "columns": [
        {
         "name": "TC_Soles_Dolares",
         "dtype": "float64",
         "stats": {
          "unique_count": 5,
          "nan_count": 0,
          "min": "3.8215",
          "max": "3.8625",
          "histogram": [
           {
            "bin_start": 3.8215,
            "bin_end": 3.8255999999999997,
            "count": 1
           },
           {
            "bin_start": 3.8255999999999997,
            "bin_end": 3.8297,
            "count": 0
           },
           {
            "bin_start": 3.8297,
            "bin_end": 3.8338,
            "count": 0
           },
           {
            "bin_start": 3.8338,
            "bin_end": 3.8379,
            "count": 0
           },
           {
            "bin_start": 3.8379,
            "bin_end": 3.8419999999999996,
            "count": 1
           },
           {
            "bin_start": 3.8419999999999996,
            "bin_end": 3.8461,
            "count": 1
           },
           {
            "bin_start": 3.8461,
            "bin_end": 3.8502,
            "count": 1
           },
           {
            "bin_start": 3.8502,
            "bin_end": 3.8543,
            "count": 0
           },
           {
            "bin_start": 3.8543,
            "bin_end": 3.8583999999999996,
            "count": 0
           },
           {
            "bin_start": 3.8583999999999996,
            "bin_end": 3.8625,
            "count": 1
           }
          ]
         }
        },
        {
         "name": "TC_Soles_Euros",
         "dtype": "float64",
         "stats": {
          "unique_count": 5,
          "nan_count": 0,
          "min": "4.153",
          "max": "4.337",
          "histogram": [
           {
            "bin_start": 4.153,
            "bin_end": 4.171399999999999,
            "count": 1
           },
           {
            "bin_start": 4.171399999999999,
            "bin_end": 4.1898,
            "count": 0
           },
           {
            "bin_start": 4.1898,
            "bin_end": 4.2082,
            "count": 0
           },
           {
            "bin_start": 4.2082,
            "bin_end": 4.2265999999999995,
            "count": 0
           },
           {
            "bin_start": 4.2265999999999995,
            "bin_end": 4.244999999999999,
            "count": 2
           },
           {
            "bin_start": 4.244999999999999,
            "bin_end": 4.2634,
            "count": 1
           },
           {
            "bin_start": 4.2634,
            "bin_end": 4.2818,
            "count": 0
           },
           {
            "bin_start": 4.2818,
            "bin_end": 4.300199999999999,
            "count": 0
           },
           {
            "bin_start": 4.300199999999999,
            "bin_end": 4.3186,
            "count": 0
           },
           {
            "bin_start": 4.3186,
            "bin_end": 4.337,
            "count": 1
           }
          ]
         }
        },
        {
         "name": "_deepnote_index_column",
         "dtype": "datetime64[ns]"
        }
       ],
       "rows": [
        {
         "TC_Soles_Dolares": 3.8625,
         "TC_Soles_Euros": 4.251,
         "_deepnote_index_column": "2022-01-19T00:00:00.000000"
        },
        {
         "TC_Soles_Dolares": 3.84466666666667,
         "TC_Soles_Euros": 4.153,
         "_deepnote_index_column": "2022-01-20T00:00:00.000000"
        },
        {
         "TC_Soles_Dolares": 3.8215,
         "TC_Soles_Euros": 4.227,
         "_deepnote_index_column": "2022-01-21T00:00:00.000000"
        },
        {
         "TC_Soles_Dolares": 3.839,
         "TC_Soles_Euros": 4.242,
         "_deepnote_index_column": "2022-01-24T00:00:00.000000"
        },
        {
         "TC_Soles_Dolares": 3.8475,
         "TC_Soles_Euros": 4.337,
         "_deepnote_index_column": "2022-01-25T00:00:00.000000"
        }
       ]
      },
      "text/plain": "              TC_Soles_Dolares  TC_Soles_Euros\nFecha_Cambio                                  \n2022-01-19            3.862500           4.251\n2022-01-20            3.844667           4.153\n2022-01-21            3.821500           4.227\n2022-01-24            3.839000           4.242\n2022-01-25            3.847500           4.337",
      "text/html": "<div>\n<style scoped>\n    .dataframe tbody tr th:only-of-type {\n        vertical-align: middle;\n    }\n\n    .dataframe tbody tr th {\n        vertical-align: top;\n    }\n\n    .dataframe thead th {\n        text-align: right;\n    }\n</style>\n<table border=\"1\" class=\"dataframe\">\n  <thead>\n    <tr style=\"text-align: right;\">\n      <th></th>\n      <th>TC_Soles_Dolares</th>\n      <th>TC_Soles_Euros</th>\n    </tr>\n    <tr>\n      <th>Fecha_Cambio</th>\n      <th></th>\n      <th></th>\n    </tr>\n  </thead>\n  <tbody>\n    <tr>\n      <th>2022-01-19</th>\n      <td>3.862500</td>\n      <td>4.251</td>\n    </tr>\n    <tr>\n      <th>2022-01-20</th>\n      <td>3.844667</td>\n      <td>4.153</td>\n    </tr>\n    <tr>\n      <th>2022-01-21</th>\n      <td>3.821500</td>\n      <td>4.227</td>\n    </tr>\n    <tr>\n      <th>2022-01-24</th>\n      <td>3.839000</td>\n      <td>4.242</td>\n    </tr>\n    <tr>\n      <th>2022-01-25</th>\n      <td>3.847500</td>\n      <td>4.337</td>\n    </tr>\n  </tbody>\n</table>\n</div>"
     },
     "metadata": {}
    }
   ]
  },
  {
   "cell_type": "code",
   "source": "df.head(-1)",
   "metadata": {
    "cell_id": "3a4a4e36-6ed6-46a3-8d8e-05b425d5bdcf",
    "tags": [],
    "deepnote_to_be_reexecuted": false,
    "source_hash": "ef7c54d8",
    "execution_start": 1643421839835,
    "execution_millis": 85,
    "deepnote_cell_type": "code"
   },
   "outputs": [
    {
     "output_type": "execute_result",
     "execution_count": 9,
     "data": {
      "application/vnd.deepnote.dataframe.v3+json": {
       "column_count": 2,
       "row_count": 4967,
       "columns": [
        {
         "name": "TC_Soles_Dolares",
         "dtype": "float64",
         "stats": {
          "unique_count": 3720,
          "nan_count": 0,
          "min": "2.53871428571429",
          "max": "4.13483333333333",
          "histogram": [
           {
            "bin_start": 2.53871428571429,
            "bin_end": 2.698326190476194,
            "count": 360
           },
           {
            "bin_start": 2.698326190476194,
            "bin_end": 2.857938095238098,
            "count": 880
           },
           {
            "bin_start": 2.857938095238098,
            "bin_end": 3.017550000000002,
            "count": 408
           },
           {
            "bin_start": 3.017550000000002,
            "bin_end": 3.177161904761906,
            "count": 350
           },
           {
            "bin_start": 3.177161904761906,
            "bin_end": 3.33677380952381,
            "count": 1324
           },
           {
            "bin_start": 3.33677380952381,
            "bin_end": 3.496385714285714,
            "count": 1074
           },
           {
            "bin_start": 3.496385714285714,
            "bin_end": 3.655997619047618,
            "count": 353
           },
           {
            "bin_start": 3.655997619047618,
            "bin_end": 3.8156095238095222,
            "count": 46
           },
           {
            "bin_start": 3.8156095238095222,
            "bin_end": 3.9752214285714262,
            "count": 73
           },
           {
            "bin_start": 3.9752214285714262,
            "bin_end": 4.13483333333333,
            "count": 99
           }
          ]
         }
        },
        {
         "name": "TC_Soles_Euros",
         "dtype": "float64",
         "stats": {
          "unique_count": 1394,
          "nan_count": 0,
          "min": "2.809",
          "max": "4.859",
          "histogram": [
           {
            "bin_start": 2.809,
            "bin_end": 3.0140000000000002,
            "count": 32
           },
           {
            "bin_start": 3.0140000000000002,
            "bin_end": 3.2190000000000003,
            "count": 96
           },
           {
            "bin_start": 3.2190000000000003,
            "bin_end": 3.4240000000000004,
            "count": 446
           },
           {
            "bin_start": 3.4240000000000004,
            "bin_end": 3.629,
            "count": 830
           },
           {
            "bin_start": 3.629,
            "bin_end": 3.834,
            "count": 1314
           },
           {
            "bin_start": 3.834,
            "bin_end": 4.039,
            "count": 656
           },
           {
            "bin_start": 4.039,
            "bin_end": 4.244,
            "count": 864
           },
           {
            "bin_start": 4.244,
            "bin_end": 4.449,
            "count": 553
           },
           {
            "bin_start": 4.449,
            "bin_end": 4.654,
            "count": 120
           },
           {
            "bin_start": 4.654,
            "bin_end": 4.859,
            "count": 56
           }
          ]
         }
        },
        {
         "name": "_deepnote_index_column",
         "dtype": "datetime64[ns]"
        }
       ],
       "rows": [
        {
         "TC_Soles_Dolares": 3.4757,
         "TC_Soles_Euros": 2.989,
         "_deepnote_index_column": "2002-02-01T00:00:00.000000"
        },
        {
         "TC_Soles_Dolares": 3.4824,
         "TC_Soles_Euros": 2.94,
         "_deepnote_index_column": "2002-02-04T00:00:00.000000"
        },
        {
         "TC_Soles_Dolares": 3.4846,
         "TC_Soles_Euros": 2.999,
         "_deepnote_index_column": "2002-02-05T00:00:00.000000"
        },
        {
         "TC_Soles_Dolares": 3.4858,
         "TC_Soles_Euros": 2.946,
         "_deepnote_index_column": "2002-02-06T00:00:00.000000"
        },
        {
         "TC_Soles_Dolares": 3.4835,
         "TC_Soles_Euros": 3.013,
         "_deepnote_index_column": "2002-02-07T00:00:00.000000"
        },
        {
         "TC_Soles_Dolares": 3.4866,
         "TC_Soles_Euros": 3.015,
         "_deepnote_index_column": "2002-02-08T00:00:00.000000"
        },
        {
         "TC_Soles_Dolares": 3.484,
         "TC_Soles_Euros": 2.995,
         "_deepnote_index_column": "2002-02-11T00:00:00.000000"
        },
        {
         "TC_Soles_Dolares": 3.4738,
         "TC_Soles_Euros": 3.024,
         "_deepnote_index_column": "2002-02-12T00:00:00.000000"
        },
        {
         "TC_Soles_Dolares": 3.4738,
         "TC_Soles_Euros": 2.999,
         "_deepnote_index_column": "2002-02-13T00:00:00.000000"
        },
        {
         "TC_Soles_Dolares": 3.4737,
         "TC_Soles_Euros": 2.982,
         "_deepnote_index_column": "2002-02-14T00:00:00.000000"
        }
       ]
      },
      "text/plain": "              TC_Soles_Dolares  TC_Soles_Euros\nFecha_Cambio                                  \n2002-02-01            3.475700           2.989\n2002-02-04            3.482400           2.940\n2002-02-05            3.484600           2.999\n2002-02-06            3.485800           2.946\n2002-02-07            3.483500           3.013\n...                        ...             ...\n2022-01-18            3.852833           4.276\n2022-01-19            3.862500           4.251\n2022-01-20            3.844667           4.153\n2022-01-21            3.821500           4.227\n2022-01-24            3.839000           4.242\n\n[4967 rows x 2 columns]",
      "text/html": "<div>\n<style scoped>\n    .dataframe tbody tr th:only-of-type {\n        vertical-align: middle;\n    }\n\n    .dataframe tbody tr th {\n        vertical-align: top;\n    }\n\n    .dataframe thead th {\n        text-align: right;\n    }\n</style>\n<table border=\"1\" class=\"dataframe\">\n  <thead>\n    <tr style=\"text-align: right;\">\n      <th></th>\n      <th>TC_Soles_Dolares</th>\n      <th>TC_Soles_Euros</th>\n    </tr>\n    <tr>\n      <th>Fecha_Cambio</th>\n      <th></th>\n      <th></th>\n    </tr>\n  </thead>\n  <tbody>\n    <tr>\n      <th>2002-02-01</th>\n      <td>3.475700</td>\n      <td>2.989</td>\n    </tr>\n    <tr>\n      <th>2002-02-04</th>\n      <td>3.482400</td>\n      <td>2.940</td>\n    </tr>\n    <tr>\n      <th>2002-02-05</th>\n      <td>3.484600</td>\n      <td>2.999</td>\n    </tr>\n    <tr>\n      <th>2002-02-06</th>\n      <td>3.485800</td>\n      <td>2.946</td>\n    </tr>\n    <tr>\n      <th>2002-02-07</th>\n      <td>3.483500</td>\n      <td>3.013</td>\n    </tr>\n    <tr>\n      <th>...</th>\n      <td>...</td>\n      <td>...</td>\n    </tr>\n    <tr>\n      <th>2022-01-18</th>\n      <td>3.852833</td>\n      <td>4.276</td>\n    </tr>\n    <tr>\n      <th>2022-01-19</th>\n      <td>3.862500</td>\n      <td>4.251</td>\n    </tr>\n    <tr>\n      <th>2022-01-20</th>\n      <td>3.844667</td>\n      <td>4.153</td>\n    </tr>\n    <tr>\n      <th>2022-01-21</th>\n      <td>3.821500</td>\n      <td>4.227</td>\n    </tr>\n    <tr>\n      <th>2022-01-24</th>\n      <td>3.839000</td>\n      <td>4.242</td>\n    </tr>\n  </tbody>\n</table>\n<p>4967 rows × 2 columns</p>\n</div>"
     },
     "metadata": {}
    }
   ],
   "execution_count": 9
  },
  {
   "cell_type": "code",
   "metadata": {
    "cell_id": "13d89a3c-1443-46bc-9d17-74c46266d240",
    "tags": [],
    "deepnote_to_be_reexecuted": false,
    "source_hash": "a58a7d2b",
    "execution_start": 1643421839963,
    "execution_millis": 370,
    "deepnote_output_heights": [
     21.1875,
     253
    ],
    "deepnote_cell_type": "code"
   },
   "source": "plt.plot(df.TC_Soles_Dolares)",
   "execution_count": 10,
   "outputs": [
    {
     "output_type": "execute_result",
     "execution_count": 10,
     "data": {
      "text/plain": "[<matplotlib.lines.Line2D at 0x7f19d662cb90>]"
     },
     "metadata": {}
    },
    {
     "data": {
      "text/plain": "<Figure size 432x288 with 1 Axes>",
      "image/png": "[encoded data removed]"
     },
     "metadata": {
      "needs_background": "light",
      "image/png": {
       "width": 372,
       "height": 251
      }
     },
     "output_type": "display_data"
    }
   ]
  },
  {
   "cell_type": "code",
   "metadata": {
    "cell_id": "5e42371c-e1ef-4a63-88bd-6ae7868cf6f5",
    "tags": [],
    "deepnote_to_be_reexecuted": false,
    "source_hash": "14f60b8f",
    "execution_start": 1643421840246,
    "execution_millis": 89,
    "deepnote_output_heights": [
     21.1875
    ],
    "deepnote_cell_type": "code"
   },
   "source": "df.shape",
   "execution_count": 11,
   "outputs": [
    {
     "output_type": "execute_result",
     "execution_count": 11,
     "data": {
      "text/plain": "(4968, 2)"
     },
     "metadata": {}
    }
   ]
  },
  {
   "cell_type": "markdown",
   "source": "## Entrenamiento sol_dolar",
   "metadata": {
    "cell_id": "6163b187-bc36-484d-a396-ff9c76756c59",
    "tags": [],
    "deepnote_cell_type": "markdown"
   }
  },
  {
   "cell_type": "code",
   "metadata": {
    "cell_id": "b6c1a791-77e3-4466-8f9b-54499769aa56",
    "tags": [],
    "deepnote_to_be_reexecuted": false,
    "source_hash": "5b96a5a6",
    "execution_start": 1643421840310,
    "execution_millis": 1557335,
    "deepnote_output_heights": [
     21.1875
    ],
    "deepnote_cell_type": "code"
   },
   "source": "# Create a new dataframe with only the 'Close column \ndata = df.filter(['TC_Soles_Dolares'])\n# Convert the dataframe to a numpy array\ndataset = data.values\n# Get the number of rows to train the model on\ntraining_data_len = int(np.ceil( len(dataset) * .95 ))\n\ntraining_data_len",
   "execution_count": 12,
   "outputs": [
    {
     "output_type": "execute_result",
     "execution_count": 12,
     "data": {
      "text/plain": "4720"
     },
     "metadata": {}
    }
   ]
  },
  {
   "cell_type": "code",
   "metadata": {
    "cell_id": "097a5ba7-dd6f-443b-a35c-5ec1e6085d24",
    "tags": [],
    "deepnote_to_be_reexecuted": false,
    "source_hash": "9761a79c",
    "execution_start": 1643421840311,
    "execution_millis": 1055,
    "deepnote_output_heights": [
     136.3125
    ],
    "deepnote_cell_type": "code"
   },
   "source": "# Scale the data\nfrom sklearn.preprocessing import MinMaxScaler\n\nscaler = MinMaxScaler(feature_range=(0,1))\nscaled_data = scaler.fit_transform(dataset)\n\nscaled_data",
   "execution_count": 13,
   "outputs": [
    {
     "output_type": "execute_result",
     "execution_count": 13,
     "data": {
      "text/plain": "array([[0.58703999],\n       [0.59123767],\n       [0.59261602],\n       ...,\n       [0.8036905 ],\n       [0.81465459],\n       [0.81998001]])"
     },
     "metadata": {}
    }
   ]
  },
  {
   "cell_type": "code",
   "metadata": {
    "cell_id": "c6777d64-5856-4b2b-acd0-5c2c72bdfa9e",
    "tags": [],
    "deepnote_to_be_reexecuted": false,
    "source_hash": "548bedb",
    "execution_start": 1643421841388,
    "execution_millis": 11,
    "deepnote_cell_type": "code"
   },
   "source": "# Create the training data set \n# Create the scaled training data set\n# Crear el conjunto de datos de entrenamiento\n# Crear el conjunto de datos de entrenamiento escalado\ntrain_data = scaled_data[0:int(training_data_len), :]\n# Split the data into x_train and y_train data sets\n\n# Divida los datos en conjuntos de datos x_train y y_train\nx_train = []\ny_train = []\n\nfor i in range(60, len(train_data)):\n    x_train.append(train_data[i-60:i, 0])\n    y_train.append(train_data[i, 0])\n    if i<= 61:\n        print(x_train)\n        print(y_train)\n        print()\n        \n# Convert the x_train and y_train to numpy arrays \n# Convierte x_train y y_train en matrices numpy\nx_train, y_train = np.array(x_train), np.array(y_train)\n\n# Reshape the data\n# Reformar los datos\nx_train = np.reshape(x_train, (x_train.shape[0], x_train.shape[1], 1))\n# x_train.shape",
   "execution_count": 14,
   "outputs": [
    {
     "name": "stdout",
     "text": "[array([0.58703999, 0.59123767, 0.59261602, 0.59336784, 0.59192685,\n       0.59386906, 0.59224011, 0.58584961, 0.58584961, 0.58578695,\n       0.58215314, 0.58190253, 0.58378209, 0.58534839, 0.58660143,\n       0.58891955, 0.58591226, 0.58490983, 0.58303027, 0.58321822,\n       0.58240375, 0.57826872, 0.5760759 , 0.57532407, 0.57263004,\n       0.57388308, 0.57244208, 0.571377  , 0.57100109, 0.57263004,\n       0.57319391, 0.57432164, 0.57444695, 0.57419634, 0.57319391,\n       0.57200352, 0.57081313, 0.56761788, 0.5666781 , 0.57156496,\n       0.57018661, 0.56830705, 0.56686606, 0.56711667, 0.56586363,\n       0.56548772, 0.56605158, 0.56417202, 0.5632949 , 0.55778152,\n       0.55753092, 0.55828274, 0.55646583, 0.557155  , 0.55909721,\n       0.56160329, 0.56291899, 0.56279368, 0.56222981, 0.56066351])]\n[0.560350254337157]\n\n[array([0.58703999, 0.59123767, 0.59261602, 0.59336784, 0.59192685,\n       0.59386906, 0.59224011, 0.58584961, 0.58584961, 0.58578695,\n       0.58215314, 0.58190253, 0.58378209, 0.58534839, 0.58660143,\n       0.58891955, 0.58591226, 0.58490983, 0.58303027, 0.58321822,\n       0.58240375, 0.57826872, 0.5760759 , 0.57532407, 0.57263004,\n       0.57388308, 0.57244208, 0.571377  , 0.57100109, 0.57263004,\n       0.57319391, 0.57432164, 0.57444695, 0.57419634, 0.57319391,\n       0.57200352, 0.57081313, 0.56761788, 0.5666781 , 0.57156496,\n       0.57018661, 0.56830705, 0.56686606, 0.56711667, 0.56586363,\n       0.56548772, 0.56605158, 0.56417202, 0.5632949 , 0.55778152,\n       0.55753092, 0.55828274, 0.55646583, 0.557155  , 0.55909721,\n       0.56160329, 0.56291899, 0.56279368, 0.56222981, 0.56066351]), array([0.59123767, 0.59261602, 0.59336784, 0.59192685, 0.59386906,\n       0.59224011, 0.58584961, 0.58584961, 0.58578695, 0.58215314,\n       0.58190253, 0.58378209, 0.58534839, 0.58660143, 0.58891955,\n       0.58591226, 0.58490983, 0.58303027, 0.58321822, 0.58240375,\n       0.57826872, 0.5760759 , 0.57532407, 0.57263004, 0.57388308,\n       0.57244208, 0.571377  , 0.57100109, 0.57263004, 0.57319391,\n       0.57432164, 0.57444695, 0.57419634, 0.57319391, 0.57200352,\n       0.57081313, 0.56761788, 0.5666781 , 0.57156496, 0.57018661,\n       0.56830705, 0.56686606, 0.56711667, 0.56586363, 0.56548772,\n       0.56605158, 0.56417202, 0.5632949 , 0.55778152, 0.55753092,\n       0.55828274, 0.55646583, 0.557155  , 0.55909721, 0.56160329,\n       0.56291899, 0.56279368, 0.56222981, 0.56066351, 0.56035025])]\n[0.560350254337157, 0.5617285976401087]\n\n",
     "output_type": "stream"
    }
   ]
  },
  {
   "cell_type": "markdown",
   "source": "## Red LSTM",
   "metadata": {
    "cell_id": "69542b57-83bd-4760-8168-5b10f2d0bda0",
    "tags": [],
    "deepnote_cell_type": "markdown"
   }
  },
  {
   "cell_type": "code",
   "metadata": {
    "cell_id": "656c9072-7413-46db-a5c3-e239b1b1fe33",
    "tags": [],
    "deepnote_to_be_reexecuted": false,
    "source_hash": "80cb2c58",
    "execution_start": 1643421841450,
    "execution_millis": 190594,
    "deepnote_output_heights": [
     null,
     21.1875
    ],
    "deepnote_cell_type": "code"
   },
   "source": "from tensorflow.keras.models import Sequential\nfrom tensorflow.keras.layers import Dense, LSTM\n\n# Build the LSTM model\nmodel = Sequential()\nmodel.add(LSTM(128, return_sequences=True, input_shape= (x_train.shape[1], 1)))\nmodel.add(LSTM(64, return_sequences=False))\nmodel.add(Dense(25))\nmodel.add(Dense(1))\n\n# Compile the model\nmodel.compile(optimizer='adam', loss='mean_squared_error')\n\n# Train the model\nmodel.fit(x_train, y_train, batch_size=1, epochs=1)",
   "execution_count": 15,
   "outputs": [
    {
     "name": "stdout",
     "text": "",
     "output_type": "stream"
    },
    {
     "name": "stdout",
     "text": "4660/4660 [==============================] - 184s 39ms/step - loss: 0.0011\n",
     "output_type": "stream"
    },
    {
     "output_type": "execute_result",
     "execution_count": 15,
     "data": {
      "text/plain": "<tensorflow.python.keras.callbacks.History at 0x7f1984acb110>"
     },
     "metadata": {}
    }
   ]
  },
  {
   "cell_type": "code",
   "source": "model.save('keras_model1.h5')",
   "metadata": {
    "cell_id": "72d1eb94-15b1-457b-93cf-5eb4697bbe06",
    "tags": [],
    "deepnote_to_be_reexecuted": false,
    "source_hash": "9f5c148b",
    "execution_start": 1643422032043,
    "execution_millis": 211,
    "deepnote_cell_type": "code"
   },
   "outputs": [],
   "execution_count": 16
  },
  {
   "cell_type": "code",
   "metadata": {
    "cell_id": "20dcd5e9-6db0-415f-9442-d387e2c6a644",
    "tags": [],
    "deepnote_to_be_reexecuted": false,
    "source_hash": "ac9f07a6",
    "execution_start": 1643422032261,
    "execution_millis": 1192,
    "deepnote_output_heights": [
     21.1875
    ],
    "deepnote_cell_type": "code"
   },
   "source": "# Create the testing data set\n# Create a new array containing scaled values from index 1543 to 2002 \n# Crear el conjunto de datos de prueba\n# Crear una nueva matriz que contenga valores escalados del índice 1543 al 2002\ntest_data = scaled_data[training_data_len - 60: , :]\n# Create the data sets x_test and y_test\nx_test = []\ny_test = dataset[training_data_len:, :]\nfor i in range(60, len(test_data)):\n    x_test.append(test_data[i-60:i, 0])\n    \n# Convert the data to a numpy array\n# Convierte los datos en una matriz numpy\nx_test = np.array(x_test)\n\n# Reshape the data\n# Reforma los datos\nx_test = np.reshape(x_test, (x_test.shape[0], x_test.shape[1], 1 ))\n\n# Get the models predicted price values \n# Obtenga los valores de precios predichos de los modelos\npredictions = model.predict(x_test)\npredictions = scaler.inverse_transform(predictions)\n\n# Get the root mean squared error (RMSE)\n# Obtener la raíz del error cuadrático medio (RMSE)\nrmse = np.sqrt(np.mean(((predictions - y_test) ** 2)))\nrmse",
   "execution_count": 17,
   "outputs": [
    {
     "output_type": "execute_result",
     "execution_count": 17,
     "data": {
      "text/plain": "0.0333569978593106"
     },
     "metadata": {}
    }
   ]
  },
  {
   "cell_type": "code",
   "metadata": {
    "cell_id": "a3f06dc0-5f5c-4393-85e8-aa718f1e0458",
    "tags": [],
    "deepnote_to_be_reexecuted": false,
    "source_hash": "c6b14855",
    "execution_start": 1643422033524,
    "execution_millis": 273,
    "deepnote_output_heights": [
     336.40625
    ],
    "deepnote_cell_type": "code"
   },
   "source": "plt.figure(figsize=(12,6))\nplt.plot(y_test, 'b', label = 'Precio Original')\nplt.plot(predictions, 'r', label= 'Precio Predecido')\nplt.xlabel('Tiempo')\nplt.ylabel('Precio')\nplt.legend()\nplt.show()",
   "execution_count": 18,
   "outputs": [
    {
     "data": {
      "text/plain": "<Figure size 864x432 with 1 Axes>",
      "image/png": "[encoded data removed]"
     },
     "metadata": {
      "needs_background": "light",
      "image/png": {
       "width": 720,
       "height": 371
      }
     },
     "output_type": "display_data"
    }
   ]
  },
  {
   "cell_type": "code",
   "metadata": {
    "cell_id": "087fad55-c4b3-4d18-b8e0-d3296c83839f",
    "tags": [],
    "deepnote_to_be_reexecuted": false,
    "source_hash": "6aa49454",
    "execution_start": 1643422033914,
    "execution_millis": 275,
    "deepnote_output_heights": [
     null,
     271.265625
    ],
    "deepnote_cell_type": "code"
   },
   "source": "# Plot the data\ntrain = data[:training_data_len]\nvalid = data[training_data_len:]\nvalid['Predictions'] = predictions\n# Visualize the data\nplt.figure(figsize=(16,6))\nplt.title('Model')\nplt.xlabel('Date', fontsize=18)\nplt.ylabel('Close Price USD ($)', fontsize=18)\nplt.plot(train['TC_Soles_Dolares'])\nplt.plot(valid[['TC_Soles_Dolares', 'Predictions']])\nplt.legend(['Train', 'Val', 'Predictions'], loc='lower right')\nplt.show()",
   "execution_count": 19,
   "outputs": [
    {
     "name": "stderr",
     "text": "/shared-libs/python3.7/py-core/lib/python3.7/site-packages/ipykernel_launcher.py:4: SettingWithCopyWarning: \nA value is trying to be set on a copy of a slice from a DataFrame.\nTry using .loc[row_indexer,col_indexer] = value instead\n\nSee the caveats in the documentation: https://pandas.pydata.org/pandas-docs/stable/user_guide/indexing.html#returning-a-view-versus-a-copy\n  after removing the cwd from sys.path.\n",
     "output_type": "stream"
    },
    {
     "data": {
      "text/plain": "<Figure size 1152x432 with 1 Axes>",
      "image/png": "[encoded data removed]"
     },
     "metadata": {
      "needs_background": "light",
      "image/png": {
       "width": 952,
       "height": 395
      }
     },
     "output_type": "display_data"
    }
   ]
  },
  {
   "cell_type": "code",
   "metadata": {
    "cell_id": "6f487f69-00c9-491e-9ea3-2bfdaf17ea8f",
    "tags": [],
    "deepnote_to_be_reexecuted": false,
    "source_hash": "91afdb9e",
    "execution_start": 1643422034210,
    "execution_millis": 53,
    "deepnote_table_state": {
     "pageSize": 10,
     "pageIndex": 13,
     "filters": [],
     "sortBy": []
    },
    "deepnote_table_loading": false,
    "deepnote_cell_type": "code"
   },
   "source": "# Show the valid and predicted prices\n# Mostrar los precios válidos y previstos\nvalid",
   "execution_count": 20,
   "outputs": [
    {
     "output_type": "execute_result",
     "execution_count": 20,
     "data": {
      "application/vnd.deepnote.dataframe.v3+json": {
       "column_count": 2,
       "row_count": 248,
       "columns": [
        {
         "name": "TC_Soles_Dolares",
         "dtype": "float64",
         "stats": {
          "unique_count": 236,
          "nan_count": 0,
          "min": "3.593",
          "max": "4.13483333333333",
          "histogram": [
           {
            "bin_start": 3.593,
            "bin_end": 3.647183333333333,
            "count": 21
           },
           {
            "bin_start": 3.647183333333333,
            "bin_end": 3.701366666666666,
            "count": 21
           },
           {
            "bin_start": 3.701366666666666,
            "bin_end": 3.755549999999999,
            "count": 23
           },
           {
            "bin_start": 3.755549999999999,
            "bin_end": 3.809733333333332,
            "count": 9
           },
           {
            "bin_start": 3.809733333333332,
            "bin_end": 3.863916666666665,
            "count": 23
           },
           {
            "bin_start": 3.863916666666665,
            "bin_end": 3.918099999999998,
            "count": 17
           },
           {
            "bin_start": 3.918099999999998,
            "bin_end": 3.972283333333331,
            "count": 34
           },
           {
            "bin_start": 3.972283333333331,
            "bin_end": 4.026466666666664,
            "count": 31
           },
           {
            "bin_start": 4.026466666666664,
            "bin_end": 4.080649999999997,
            "count": 29
           },
           {
            "bin_start": 4.080649999999997,
            "bin_end": 4.13483333333333,
            "count": 40
           }
          ]
         }
        },
        {
         "name": "Predictions",
         "dtype": "float32",
         "stats": {
          "unique_count": 248,
          "nan_count": 0,
          "min": "3.6467056274414062",
          "max": "4.143240928649902",
          "histogram": [
           {
            "bin_start": 3.6467056274414062,
            "bin_end": 3.696359157562256,
            "count": 36
           },
           {
            "bin_start": 3.696359157562256,
            "bin_end": 3.7460126876831055,
            "count": 21
           },
           {
            "bin_start": 3.7460126876831055,
            "bin_end": 3.795666217803955,
            "count": 17
           },
           {
            "bin_start": 3.795666217803955,
            "bin_end": 3.8453197479248047,
            "count": 14
           },
           {
            "bin_start": 3.8453197479248047,
            "bin_end": 3.8949732780456543,
            "count": 9
           },
           {
            "bin_start": 3.8949732780456543,
            "bin_end": 3.944626808166504,
            "count": 18
           },
           {
            "bin_start": 3.944626808166504,
            "bin_end": 3.9942803382873535,
            "count": 29
           },
           {
            "bin_start": 3.9942803382873535,
            "bin_end": 4.043933868408203,
            "count": 35
           },
           {
            "bin_start": 4.043933868408203,
            "bin_end": 4.093587398529053,
            "count": 32
           },
           {
            "bin_start": 4.093587398529053,
            "bin_end": 4.143240928649902,
            "count": 37
           }
          ]
         }
        },
        {
         "name": "_deepnote_index_column",
         "dtype": "datetime64[ns]"
        }
       ],
       "rows": [
        {
         "TC_Soles_Dolares": 4.105,
         "Predictions": 4.069467067718506,
         "_deepnote_index_column": "2021-08-09T00:00:00.000000"
        },
        {
         "TC_Soles_Dolares": 4.061,
         "Predictions": 4.082858085632324,
         "_deepnote_index_column": "2021-08-10T00:00:00.000000"
        },
        {
         "TC_Soles_Dolares": 4.08783333333333,
         "Predictions": 4.071146011352539,
         "_deepnote_index_column": "2021-08-11T00:00:00.000000"
        },
        {
         "TC_Soles_Dolares": 4.09266666666667,
         "Predictions": 4.076911449432373,
         "_deepnote_index_column": "2021-08-12T00:00:00.000000"
        },
        {
         "TC_Soles_Dolares": 4.07633333333333,
         "Predictions": 4.085355281829834,
         "_deepnote_index_column": "2021-08-13T00:00:00.000000"
        },
        {
         "TC_Soles_Dolares": 4.0745,
         "Predictions": 4.08400297164917,
         "_deepnote_index_column": "2021-08-16T00:00:00.000000"
        },
        {
         "TC_Soles_Dolares": 4.08516666666667,
         "Predictions": 4.082940578460693,
         "_deepnote_index_column": "2021-08-17T00:00:00.000000"
        },
        {
         "TC_Soles_Dolares": 4.09233333333333,
         "Predictions": 4.088486671447754,
         "_deepnote_index_column": "2021-08-18T00:00:00.000000"
        },
        {
         "TC_Soles_Dolares": 4.1095,
         "Predictions": 4.096031188964844,
         "_deepnote_index_column": "2021-08-19T00:00:00.000000"
        },
        {
         "TC_Soles_Dolares": 4.11016666666667,
         "Predictions": 4.108220100402832,
         "_deepnote_index_column": "2021-08-20T00:00:00.000000"
        }
       ]
      },
      "text/plain": "              TC_Soles_Dolares  Predictions\nFecha_Cambio                               \n2021-02-01            3.637333     3.652775\n2021-02-02            3.636833     3.650843\n2021-02-03            3.636167     3.650338\n2021-02-04            3.643500     3.650491\n2021-02-05            3.636500     3.654200\n...                        ...          ...\n2022-01-19            3.862500     3.895305\n2022-01-20            3.844667     3.896967\n2022-01-21            3.821500     3.890175\n2022-01-24            3.839000     3.874691\n2022-01-25            3.847500     3.872740\n\n[248 rows x 2 columns]",
      "text/html": "<div>\n<style scoped>\n    .dataframe tbody tr th:only-of-type {\n        vertical-align: middle;\n    }\n\n    .dataframe tbody tr th {\n        vertical-align: top;\n    }\n\n    .dataframe thead th {\n        text-align: right;\n    }\n</style>\n<table border=\"1\" class=\"dataframe\">\n  <thead>\n    <tr style=\"text-align: right;\">\n      <th></th>\n      <th>TC_Soles_Dolares</th>\n      <th>Predictions</th>\n    </tr>\n    <tr>\n      <th>Fecha_Cambio</th>\n      <th></th>\n      <th></th>\n    </tr>\n  </thead>\n  <tbody>\n    <tr>\n      <th>2021-02-01</th>\n      <td>3.637333</td>\n      <td>3.652775</td>\n    </tr>\n    <tr>\n      <th>2021-02-02</th>\n      <td>3.636833</td>\n      <td>3.650843</td>\n    </tr>\n    <tr>\n      <th>2021-02-03</th>\n      <td>3.636167</td>\n      <td>3.650338</td>\n    </tr>\n    <tr>\n      <th>2021-02-04</th>\n      <td>3.643500</td>\n      <td>3.650491</td>\n    </tr>\n    <tr>\n      <th>2021-02-05</th>\n      <td>3.636500</td>\n      <td>3.654200</td>\n    </tr>\n    <tr>\n      <th>...</th>\n      <td>...</td>\n      <td>...</td>\n    </tr>\n    <tr>\n      <th>2022-01-19</th>\n      <td>3.862500</td>\n      <td>3.895305</td>\n    </tr>\n    <tr>\n      <th>2022-01-20</th>\n      <td>3.844667</td>\n      <td>3.896967</td>\n    </tr>\n    <tr>\n      <th>2022-01-21</th>\n      <td>3.821500</td>\n      <td>3.890175</td>\n    </tr>\n    <tr>\n      <th>2022-01-24</th>\n      <td>3.839000</td>\n      <td>3.874691</td>\n    </tr>\n    <tr>\n      <th>2022-01-25</th>\n      <td>3.847500</td>\n      <td>3.872740</td>\n    </tr>\n  </tbody>\n</table>\n<p>248 rows × 2 columns</p>\n</div>"
     },
     "metadata": {}
    }
   ]
  },
  {
   "cell_type": "markdown",
   "source": "# Entrenamiento sol_Euro",
   "metadata": {
    "cell_id": "a4314117-7c96-48bb-83bb-0df4b803fd38",
    "tags": [],
    "deepnote_cell_type": "markdown"
   }
  },
  {
   "cell_type": "code",
   "metadata": {
    "cell_id": "8f801ff5-e4be-4534-9919-93c0ab76f6e4",
    "tags": [],
    "deepnote_to_be_reexecuted": false,
    "source_hash": "c085b6ba",
    "execution_start": 1643422034300,
    "execution_millis": 7,
    "deepnote_cell_type": "code"
   },
   "source": "df.head()",
   "execution_count": 21,
   "outputs": [
    {
     "output_type": "execute_result",
     "execution_count": 21,
     "data": {
      "application/vnd.deepnote.dataframe.v3+json": {
       "column_count": 2,
       "row_count": 5,
       "columns": [
        {
         "name": "TC_Soles_Dolares",
         "dtype": "float64",
         "stats": {
          "unique_count": 5,
          "nan_count": 0,
          "min": "3.4757",
          "max": "3.4858",
          "histogram": [
           {
            "bin_start": 3.4757,
            "bin_end": 3.4767099999999997,
            "count": 1
           },
           {
            "bin_start": 3.4767099999999997,
            "bin_end": 3.4777199999999997,
            "count": 0
           },
           {
            "bin_start": 3.4777199999999997,
            "bin_end": 3.4787299999999997,
            "count": 0
           },
           {
            "bin_start": 3.4787299999999997,
            "bin_end": 3.4797399999999996,
            "count": 0
           },
           {
            "bin_start": 3.4797399999999996,
            "bin_end": 3.4807499999999996,
            "count": 0
           },
           {
            "bin_start": 3.4807499999999996,
            "bin_end": 3.48176,
            "count": 0
           },
           {
            "bin_start": 3.48176,
            "bin_end": 3.48277,
            "count": 1
           },
           {
            "bin_start": 3.48277,
            "bin_end": 3.48378,
            "count": 1
           },
           {
            "bin_start": 3.48378,
            "bin_end": 3.48479,
            "count": 1
           },
           {
            "bin_start": 3.48479,
            "bin_end": 3.4858,
            "count": 1
           }
          ]
         }
        },
        {
         "name": "TC_Soles_Euros",
         "dtype": "float64",
         "stats": {
          "unique_count": 5,
          "nan_count": 0,
          "min": "2.94",
          "max": "3.013",
          "histogram": [
           {
            "bin_start": 2.94,
            "bin_end": 2.9473,
            "count": 2
           },
           {
            "bin_start": 2.9473,
            "bin_end": 2.9546,
            "count": 0
           },
           {
            "bin_start": 2.9546,
            "bin_end": 2.9619,
            "count": 0
           },
           {
            "bin_start": 2.9619,
            "bin_end": 2.9692,
            "count": 0
           },
           {
            "bin_start": 2.9692,
            "bin_end": 2.9764999999999997,
            "count": 0
           },
           {
            "bin_start": 2.9764999999999997,
            "bin_end": 2.9838,
            "count": 0
           },
           {
            "bin_start": 2.9838,
            "bin_end": 2.9911,
            "count": 1
           },
           {
            "bin_start": 2.9911,
            "bin_end": 2.9983999999999997,
            "count": 0
           },
           {
            "bin_start": 2.9983999999999997,
            "bin_end": 3.0057,
            "count": 1
           },
           {
            "bin_start": 3.0057,
            "bin_end": 3.013,
            "count": 1
           }
          ]
         }
        },
        {
         "name": "_deepnote_index_column",
         "dtype": "datetime64[ns]"
        }
       ],
       "rows": [
        {
         "TC_Soles_Dolares": 3.4757,
         "TC_Soles_Euros": 2.989,
         "_deepnote_index_column": "2002-02-01T00:00:00.000000"
        },
        {
         "TC_Soles_Dolares": 3.4824,
         "TC_Soles_Euros": 2.94,
         "_deepnote_index_column": "2002-02-04T00:00:00.000000"
        },
        {
         "TC_Soles_Dolares": 3.4846,
         "TC_Soles_Euros": 2.999,
         "_deepnote_index_column": "2002-02-05T00:00:00.000000"
        },
        {
         "TC_Soles_Dolares": 3.4858,
         "TC_Soles_Euros": 2.946,
         "_deepnote_index_column": "2002-02-06T00:00:00.000000"
        },
        {
         "TC_Soles_Dolares": 3.4835,
         "TC_Soles_Euros": 3.013,
         "_deepnote_index_column": "2002-02-07T00:00:00.000000"
        }
       ]
      },
      "text/plain": "              TC_Soles_Dolares  TC_Soles_Euros\nFecha_Cambio                                  \n2002-02-01              3.4757           2.989\n2002-02-04              3.4824           2.940\n2002-02-05              3.4846           2.999\n2002-02-06              3.4858           2.946\n2002-02-07              3.4835           3.013",
      "text/html": "<div>\n<style scoped>\n    .dataframe tbody tr th:only-of-type {\n        vertical-align: middle;\n    }\n\n    .dataframe tbody tr th {\n        vertical-align: top;\n    }\n\n    .dataframe thead th {\n        text-align: right;\n    }\n</style>\n<table border=\"1\" class=\"dataframe\">\n  <thead>\n    <tr style=\"text-align: right;\">\n      <th></th>\n      <th>TC_Soles_Dolares</th>\n      <th>TC_Soles_Euros</th>\n    </tr>\n    <tr>\n      <th>Fecha_Cambio</th>\n      <th></th>\n      <th></th>\n    </tr>\n  </thead>\n  <tbody>\n    <tr>\n      <th>2002-02-01</th>\n      <td>3.4757</td>\n      <td>2.989</td>\n    </tr>\n    <tr>\n      <th>2002-02-04</th>\n      <td>3.4824</td>\n      <td>2.940</td>\n    </tr>\n    <tr>\n      <th>2002-02-05</th>\n      <td>3.4846</td>\n      <td>2.999</td>\n    </tr>\n    <tr>\n      <th>2002-02-06</th>\n      <td>3.4858</td>\n      <td>2.946</td>\n    </tr>\n    <tr>\n      <th>2002-02-07</th>\n      <td>3.4835</td>\n      <td>3.013</td>\n    </tr>\n  </tbody>\n</table>\n</div>"
     },
     "metadata": {}
    }
   ]
  },
  {
   "cell_type": "code",
   "metadata": {
    "cell_id": "74e9d6be-83f8-43d8-adae-399c003df6e8",
    "tags": [],
    "deepnote_to_be_reexecuted": false,
    "source_hash": "b51ea1d2",
    "execution_start": 1643422034317,
    "execution_millis": 238,
    "deepnote_output_heights": [
     21.1875,
     250
    ],
    "deepnote_cell_type": "code"
   },
   "source": "plt.plot(df.TC_Soles_Euros)",
   "execution_count": 22,
   "outputs": [
    {
     "output_type": "execute_result",
     "execution_count": 22,
     "data": {
      "text/plain": "[<matplotlib.lines.Line2D at 0x7f196c9f1310>]"
     },
     "metadata": {}
    },
    {
     "data": {
      "text/plain": "<Figure size 432x288 with 1 Axes>",
      "image/png": "[encoded data removed]"
     },
     "metadata": {
      "needs_background": "light",
      "image/png": {
       "width": 372,
       "height": 248
      }
     },
     "output_type": "display_data"
    }
   ]
  },
  {
   "cell_type": "code",
   "metadata": {
    "cell_id": "e56acb3a-1d14-4cba-a8fb-08b27f8e00e7",
    "tags": [],
    "deepnote_to_be_reexecuted": false,
    "source_hash": "14f60b8f",
    "execution_start": 1643422034561,
    "execution_millis": 7,
    "deepnote_output_heights": [
     21.1875
    ],
    "deepnote_cell_type": "code"
   },
   "source": "df.shape",
   "execution_count": 23,
   "outputs": [
    {
     "output_type": "execute_result",
     "execution_count": 23,
     "data": {
      "text/plain": "(4968, 2)"
     },
     "metadata": {}
    }
   ]
  },
  {
   "cell_type": "code",
   "metadata": {
    "cell_id": "26e53751-bf9d-4033-8b4d-aaba5f12379d",
    "tags": [],
    "deepnote_to_be_reexecuted": false,
    "source_hash": "88e3e83d",
    "execution_start": 1643422034571,
    "execution_millis": 46,
    "deepnote_output_heights": [
     21.1875
    ],
    "deepnote_cell_type": "code"
   },
   "source": "# Create a new dataframe with only the 'Close column \ndata = df.filter(['TC_Soles_Euros'])\n# Convert the dataframe to a numpy array\ndataset = data.values\n# Get the number of rows to train the model on\ntraining_data_len = int(np.ceil( len(dataset) * .95 ))\n\ntraining_data_len",
   "execution_count": 24,
   "outputs": [
    {
     "output_type": "execute_result",
     "execution_count": 24,
     "data": {
      "text/plain": "4720"
     },
     "metadata": {}
    }
   ]
  },
  {
   "cell_type": "code",
   "metadata": {
    "cell_id": "da916ba3-124a-4482-acd1-525378979e9b",
    "tags": [],
    "deepnote_to_be_reexecuted": false,
    "source_hash": "9761a79c",
    "execution_start": 1643422034615,
    "execution_millis": 3,
    "deepnote_output_heights": [
     136.3125
    ],
    "deepnote_cell_type": "code"
   },
   "source": "# Scale the data\nfrom sklearn.preprocessing import MinMaxScaler\n\nscaler = MinMaxScaler(feature_range=(0,1))\nscaled_data = scaler.fit_transform(dataset)\n\nscaled_data",
   "execution_count": 25,
   "outputs": [
    {
     "output_type": "execute_result",
     "execution_count": 25,
     "data": {
      "text/plain": "array([[0.08780488],\n       [0.06390244],\n       [0.09268293],\n       ...,\n       [0.69170732],\n       [0.69902439],\n       [0.74536585]])"
     },
     "metadata": {}
    }
   ]
  },
  {
   "cell_type": "code",
   "metadata": {
    "cell_id": "2b2c354b-8a59-43b4-8522-6310f28cbc84",
    "tags": [],
    "deepnote_to_be_reexecuted": false,
    "source_hash": "2ad4208c",
    "execution_start": 1643422034616,
    "execution_millis": 44,
    "deepnote_cell_type": "code"
   },
   "source": "# Create the training data set \n# Create the scaled training data set\ntrain_data = scaled_data[0:int(training_data_len), :]\n# Split the data into x_train and y_train data sets\nx_train = []\ny_train = []\n\nfor i in range(60, len(train_data)):\n    x_train.append(train_data[i-60:i, 0])\n    y_train.append(train_data[i, 0])\n    if i<= 61:\n        print(x_train)\n        print(y_train)\n        print()\n        \n# Convert the x_train and y_train to numpy arrays \nx_train, y_train = np.array(x_train), np.array(y_train)\n\n# Reshape the data\nx_train = np.reshape(x_train, (x_train.shape[0], x_train.shape[1], 1))\n# x_train.shape",
   "execution_count": 26,
   "outputs": [
    {
     "name": "stdout",
     "text": "[array([0.08780488, 0.06390244, 0.09268293, 0.06682927, 0.0995122 ,\n       0.1004878 , 0.09073171, 0.10487805, 0.09268293, 0.08439024,\n       0.09317073, 0.06146341, 0.10243902, 0.10487805, 0.08585366,\n       0.10682927, 0.09073171, 0.0702439 , 0.09902439, 0.09170732,\n       0.08634146, 0.08780488, 0.09414634, 0.09512195, 0.0995122 ,\n       0.10682927, 0.10487805, 0.09609756, 0.1       , 0.10682927,\n       0.10292683, 0.10682927, 0.07804878, 0.10634146, 0.12      ,\n       0.11121951, 0.10585366, 0.09804878, 0.10390244, 0.09707317,\n       0.1102439 , 0.10829268, 0.1097561 , 0.0995122 , 0.10585366,\n       0.0995122 , 0.10487805, 0.10536585, 0.10829268, 0.0795122 ,\n       0.09512195, 0.11121951, 0.11317073, 0.11121951, 0.11317073,\n       0.10878049, 0.12634146, 0.11804878, 0.13414634, 0.13560976])]\n[0.138048780487805]\n\n[array([0.08780488, 0.06390244, 0.09268293, 0.06682927, 0.0995122 ,\n       0.1004878 , 0.09073171, 0.10487805, 0.09268293, 0.08439024,\n       0.09317073, 0.06146341, 0.10243902, 0.10487805, 0.08585366,\n       0.10682927, 0.09073171, 0.0702439 , 0.09902439, 0.09170732,\n       0.08634146, 0.08780488, 0.09414634, 0.09512195, 0.0995122 ,\n       0.10682927, 0.10487805, 0.09609756, 0.1       , 0.10682927,\n       0.10292683, 0.10682927, 0.07804878, 0.10634146, 0.12      ,\n       0.11121951, 0.10585366, 0.09804878, 0.10390244, 0.09707317,\n       0.1102439 , 0.10829268, 0.1097561 , 0.0995122 , 0.10585366,\n       0.0995122 , 0.10487805, 0.10536585, 0.10829268, 0.0795122 ,\n       0.09512195, 0.11121951, 0.11317073, 0.11121951, 0.11317073,\n       0.10878049, 0.12634146, 0.11804878, 0.13414634, 0.13560976]), array([0.06390244, 0.09268293, 0.06682927, 0.0995122 , 0.1004878 ,\n       0.09073171, 0.10487805, 0.09268293, 0.08439024, 0.09317073,\n       0.06146341, 0.10243902, 0.10487805, 0.08585366, 0.10682927,\n       0.09073171, 0.0702439 , 0.09902439, 0.09170732, 0.08634146,\n       0.08780488, 0.09414634, 0.09512195, 0.0995122 , 0.10682927,\n       0.10487805, 0.09609756, 0.1       , 0.10682927, 0.10292683,\n       0.10682927, 0.07804878, 0.10634146, 0.12      , 0.11121951,\n       0.10585366, 0.09804878, 0.10390244, 0.09707317, 0.1102439 ,\n       0.10829268, 0.1097561 , 0.0995122 , 0.10585366, 0.0995122 ,\n       0.10487805, 0.10536585, 0.10829268, 0.0795122 , 0.09512195,\n       0.11121951, 0.11317073, 0.11121951, 0.11317073, 0.10878049,\n       0.12634146, 0.11804878, 0.13414634, 0.13560976, 0.13804878])]\n[0.138048780487805, 0.1356097560975611]\n\n",
     "output_type": "stream"
    }
   ]
  },
  {
   "cell_type": "markdown",
   "source": "# Red LSTM",
   "metadata": {
    "cell_id": "383451dd-64cf-4a7a-b88b-088368f4dfeb",
    "tags": [],
    "deepnote_cell_type": "markdown"
   }
  },
  {
   "cell_type": "code",
   "metadata": {
    "cell_id": "e344076c-cd8f-43a1-b63d-f2e13805af6a",
    "tags": [],
    "deepnote_to_be_reexecuted": false,
    "source_hash": "80cb2c58",
    "execution_start": 1643422034659,
    "execution_millis": 196451,
    "deepnote_output_heights": [
     null,
     21.1875
    ],
    "deepnote_cell_type": "code"
   },
   "source": "from tensorflow.keras.models import Sequential\nfrom tensorflow.keras.layers import Dense, LSTM\n\n# Build the LSTM model\nmodel = Sequential()\nmodel.add(LSTM(128, return_sequences=True, input_shape= (x_train.shape[1], 1)))\nmodel.add(LSTM(64, return_sequences=False))\nmodel.add(Dense(25))\nmodel.add(Dense(1))\n\n# Compile the model\nmodel.compile(optimizer='adam', loss='mean_squared_error')\n\n# Train the model\nmodel.fit(x_train, y_train, batch_size=1, epochs=1)",
   "execution_count": 27,
   "outputs": [
    {
     "name": "stdout",
     "text": "4660/4660 [==============================] - 196s 41ms/step - loss: 0.0028\n",
     "output_type": "stream"
    },
    {
     "output_type": "execute_result",
     "execution_count": 27,
     "data": {
      "text/plain": "<tensorflow.python.keras.callbacks.History at 0x7f1984b1e590>"
     },
     "metadata": {}
    }
   ]
  },
  {
   "cell_type": "code",
   "source": "model.save('keras_model2.h5')",
   "metadata": {
    "cell_id": "9ca7cc70-8d88-4961-a91d-abf6410ec13f",
    "tags": [],
    "deepnote_to_be_reexecuted": false,
    "source_hash": "b8f13db3",
    "execution_start": 1643422231105,
    "execution_millis": 208,
    "deepnote_cell_type": "code"
   },
   "outputs": [],
   "execution_count": 28
  },
  {
   "cell_type": "code",
   "metadata": {
    "cell_id": "dd1e200c-6995-4251-8681-1e15b7582d73",
    "tags": [],
    "deepnote_to_be_reexecuted": false,
    "source_hash": "2125732d",
    "execution_start": 1643422231333,
    "execution_millis": 1107,
    "deepnote_output_heights": [
     21.1875
    ],
    "deepnote_cell_type": "code"
   },
   "source": "# Create the testing data set\n# Create a new array containing scaled values from index 1543 to 2002 \ntest_data = scaled_data[training_data_len - 60: , :]\n# Create the data sets x_test and y_test\nx_test = []\ny_test = dataset[training_data_len:, :]\nfor i in range(60, len(test_data)):\n    x_test.append(test_data[i-60:i, 0])\n    \n# Convert the data to a numpy array\nx_test = np.array(x_test)\n\n# Reshape the data\nx_test = np.reshape(x_test, (x_test.shape[0], x_test.shape[1], 1 ))\n\n# Get the models predicted price values \npredictions = model.predict(x_test)\npredictions = scaler.inverse_transform(predictions)\n\n# Get the root mean squared error (RMSE)\nrmse = np.sqrt(np.mean(((predictions - y_test) ** 2)))\nrmse",
   "execution_count": 29,
   "outputs": [
    {
     "output_type": "execute_result",
     "execution_count": 29,
     "data": {
      "text/plain": "0.0946931625181007"
     },
     "metadata": {}
    }
   ]
  },
  {
   "cell_type": "code",
   "metadata": {
    "cell_id": "d7495469-c5e7-482d-b954-28e3cb418d4f",
    "tags": [],
    "deepnote_to_be_reexecuted": false,
    "source_hash": "c6b14855",
    "execution_start": 1643422232487,
    "execution_millis": 278,
    "deepnote_output_heights": [
     345.171875
    ],
    "deepnote_cell_type": "code"
   },
   "source": "plt.figure(figsize=(12,6))\nplt.plot(y_test, 'b', label = 'Precio Original')\nplt.plot(predictions, 'r', label= 'Precio Predecido')\nplt.xlabel('Tiempo')\nplt.ylabel('Precio')\nplt.legend()\nplt.show()",
   "execution_count": 30,
   "outputs": [
    {
     "data": {
      "text/plain": "<Figure size 864x432 with 1 Axes>",
      "image/png": "[encoded data removed]"
     },
     "metadata": {
      "needs_background": "light",
      "image/png": {
       "width": 720,
       "height": 371
      }
     },
     "output_type": "display_data"
    }
   ]
  },
  {
   "cell_type": "code",
   "metadata": {
    "cell_id": "a1b159a8-2695-4fd0-937c-e614d41c2ca8",
    "tags": [],
    "deepnote_to_be_reexecuted": false,
    "source_hash": "86c0db66",
    "execution_start": 1643422232778,
    "execution_millis": 612,
    "deepnote_output_heights": [
     null,
     278.328125
    ],
    "deepnote_cell_type": "code"
   },
   "source": "# Plot the data\ntrain = data[:training_data_len]\nvalid = data[training_data_len:]\nvalid['Predictions'] = predictions\n# Visualize the data\nplt.figure(figsize=(16,6))\nplt.title('Model')\nplt.xlabel('Tiempo', fontsize=18)\nplt.ylabel('Close Price USD ($)', fontsize=18)\nplt.plot(train['TC_Soles_Euros'])\nplt.plot(valid[['TC_Soles_Euros', 'Predictions']])\nplt.legend(['Train', 'Val', 'Predictions'], loc='lower right')\nplt.show()",
   "execution_count": 31,
   "outputs": [
    {
     "name": "stderr",
     "text": "/shared-libs/python3.7/py-core/lib/python3.7/site-packages/ipykernel_launcher.py:4: SettingWithCopyWarning: \nA value is trying to be set on a copy of a slice from a DataFrame.\nTry using .loc[row_indexer,col_indexer] = value instead\n\nSee the caveats in the documentation: https://pandas.pydata.org/pandas-docs/stable/user_guide/indexing.html#returning-a-view-versus-a-copy\n  after removing the cwd from sys.path.\n",
     "output_type": "stream"
    },
    {
     "data": {
      "text/plain": "<Figure size 1152x432 with 1 Axes>",
      "image/png": "[encoded data removed]"
     },
     "metadata": {
      "needs_background": "light",
      "image/png": {
       "width": 952,
       "height": 395
      }
     },
     "output_type": "display_data"
    }
   ]
  },
  {
   "cell_type": "code",
   "metadata": {
    "cell_id": "d1f17ce7-dedd-4655-88c6-e65da7f62855",
    "tags": [],
    "deepnote_to_be_reexecuted": false,
    "source_hash": "e8ba6949",
    "execution_start": 1643422233204,
    "execution_millis": 188,
    "deepnote_output_heights": [
     411.1875
    ],
    "deepnote_cell_type": "code"
   },
   "source": "# Show the valid and predicted prices\nvalid",
   "execution_count": 32,
   "outputs": [
    {
     "output_type": "execute_result",
     "execution_count": 32,
     "data": {
      "application/vnd.deepnote.dataframe.v3+json": {
       "column_count": 2,
       "row_count": 248,
       "columns": [
        {
         "name": "TC_Soles_Euros",
         "dtype": "float64",
         "stats": {
          "unique_count": 202,
          "nan_count": 0,
          "min": "4.153",
          "max": "4.859",
          "histogram": [
           {
            "bin_start": 4.153,
            "bin_end": 4.223599999999999,
            "count": 2
           },
           {
            "bin_start": 4.223599999999999,
            "bin_end": 4.2942,
            "count": 14
           },
           {
            "bin_start": 4.2942,
            "bin_end": 4.3648,
            "count": 37
           },
           {
            "bin_start": 4.3648,
            "bin_end": 4.4354,
            "count": 35
           },
           {
            "bin_start": 4.4354,
            "bin_end": 4.506,
            "count": 35
           },
           {
            "bin_start": 4.506,
            "bin_end": 4.5766,
            "count": 37
           },
           {
            "bin_start": 4.5766,
            "bin_end": 4.6472,
            "count": 31
           },
           {
            "bin_start": 4.6472,
            "bin_end": 4.7177999999999995,
            "count": 23
           },
           {
            "bin_start": 4.7177999999999995,
            "bin_end": 4.7884,
            "count": 19
           },
           {
            "bin_start": 4.7884,
            "bin_end": 4.859,
            "count": 15
           }
          ]
         }
        },
        {
         "name": "Predictions",
         "dtype": "float32",
         "stats": {
          "unique_count": 248,
          "nan_count": 0,
          "min": "4.308065891265869",
          "max": "4.854739189147949",
          "histogram": [
           {
            "bin_start": 4.308065891265869,
            "bin_end": 4.362733364105225,
            "count": 11
           },
           {
            "bin_start": 4.362733364105225,
            "bin_end": 4.417400360107422,
            "count": 20
           },
           {
            "bin_start": 4.417400360107422,
            "bin_end": 4.472067832946777,
            "count": 42
           },
           {
            "bin_start": 4.472067832946777,
            "bin_end": 4.526735305786133,
            "count": 19
           },
           {
            "bin_start": 4.526735305786133,
            "bin_end": 4.581402778625488,
            "count": 42
           },
           {
            "bin_start": 4.581402778625488,
            "bin_end": 4.6360697746276855,
            "count": 33
           },
           {
            "bin_start": 4.6360697746276855,
            "bin_end": 4.690737247467041,
            "count": 25
           },
           {
            "bin_start": 4.690737247467041,
            "bin_end": 4.7454047203063965,
            "count": 22
           },
           {
            "bin_start": 4.7454047203063965,
            "bin_end": 4.800071716308594,
            "count": 8
           },
           {
            "bin_start": 4.800071716308594,
            "bin_end": 4.854739189147949,
            "count": 26
           }
          ]
         }
        },
        {
         "name": "_deepnote_index_column",
         "dtype": "datetime64[ns]"
        }
       ],
       "rows": [
        {
         "TC_Soles_Euros": 4.301,
         "Predictions": 4.424133777618408,
         "_deepnote_index_column": "2021-02-01T00:00:00.000000"
        },
        {
         "TC_Soles_Euros": 4.331,
         "Predictions": 4.403602600097656,
         "_deepnote_index_column": "2021-02-02T00:00:00.000000"
        },
        {
         "TC_Soles_Euros": 4.34,
         "Predictions": 4.399087905883789,
         "_deepnote_index_column": "2021-02-03T00:00:00.000000"
        },
        {
         "TC_Soles_Euros": 4.338,
         "Predictions": 4.4011921882629395,
         "_deepnote_index_column": "2021-02-04T00:00:00.000000"
        },
        {
         "TC_Soles_Euros": 4.365,
         "Predictions": 4.4028639793396,
         "_deepnote_index_column": "2021-02-05T00:00:00.000000"
        },
        {
         "TC_Soles_Euros": 4.358,
         "Predictions": 4.412762641906738,
         "_deepnote_index_column": "2021-02-08T00:00:00.000000"
        },
        {
         "TC_Soles_Euros": 4.346,
         "Predictions": 4.417685031890869,
         "_deepnote_index_column": "2021-02-09T00:00:00.000000"
        },
        {
         "TC_Soles_Euros": 4.39,
         "Predictions": 4.416195869445801,
         "_deepnote_index_column": "2021-02-10T00:00:00.000000"
        },
        {
         "TC_Soles_Euros": 4.379,
         "Predictions": 4.428894519805908,
         "_deepnote_index_column": "2021-02-11T00:00:00.000000"
        },
        {
         "TC_Soles_Euros": 4.381,
         "Predictions": 4.43503475189209,
         "_deepnote_index_column": "2021-02-12T00:00:00.000000"
        }
       ]
      },
      "text/plain": "              TC_Soles_Euros  Predictions\nFecha_Cambio                             \n2021-02-01             4.301     4.424134\n2021-02-02             4.331     4.403603\n2021-02-03             4.340     4.399088\n2021-02-04             4.338     4.401192\n2021-02-05             4.365     4.402864\n...                      ...          ...\n2022-01-19             4.251     4.403322\n2022-01-20             4.153     4.372370\n2022-01-21             4.227     4.320438\n2022-01-24             4.242     4.308066\n2022-01-25             4.337     4.309930\n\n[248 rows x 2 columns]",
      "text/html": "<div>\n<style scoped>\n    .dataframe tbody tr th:only-of-type {\n        vertical-align: middle;\n    }\n\n    .dataframe tbody tr th {\n        vertical-align: top;\n    }\n\n    .dataframe thead th {\n        text-align: right;\n    }\n</style>\n<table border=\"1\" class=\"dataframe\">\n  <thead>\n    <tr style=\"text-align: right;\">\n      <th></th>\n      <th>TC_Soles_Euros</th>\n      <th>Predictions</th>\n    </tr>\n    <tr>\n      <th>Fecha_Cambio</th>\n      <th></th>\n      <th></th>\n    </tr>\n  </thead>\n  <tbody>\n    <tr>\n      <th>2021-02-01</th>\n      <td>4.301</td>\n      <td>4.424134</td>\n    </tr>\n    <tr>\n      <th>2021-02-02</th>\n      <td>4.331</td>\n      <td>4.403603</td>\n    </tr>\n    <tr>\n      <th>2021-02-03</th>\n      <td>4.340</td>\n      <td>4.399088</td>\n    </tr>\n    <tr>\n      <th>2021-02-04</th>\n      <td>4.338</td>\n      <td>4.401192</td>\n    </tr>\n    <tr>\n      <th>2021-02-05</th>\n      <td>4.365</td>\n      <td>4.402864</td>\n    </tr>\n    <tr>\n      <th>...</th>\n      <td>...</td>\n      <td>...</td>\n    </tr>\n    <tr>\n      <th>2022-01-19</th>\n      <td>4.251</td>\n      <td>4.403322</td>\n    </tr>\n    <tr>\n      <th>2022-01-20</th>\n      <td>4.153</td>\n      <td>4.372370</td>\n    </tr>\n    <tr>\n      <th>2022-01-21</th>\n      <td>4.227</td>\n      <td>4.320438</td>\n    </tr>\n    <tr>\n      <th>2022-01-24</th>\n      <td>4.242</td>\n      <td>4.308066</td>\n    </tr>\n    <tr>\n      <th>2022-01-25</th>\n      <td>4.337</td>\n      <td>4.309930</td>\n    </tr>\n  </tbody>\n</table>\n<p>248 rows × 2 columns</p>\n</div>"
     },
     "metadata": {}
    }
   ]
  },
  {
   "cell_type": "markdown",
   "source": "<a style='text-decoration:none;line-height:16px;display:flex;color:#5B5B62;padding:10px;justify-content:end;' href='https://deepnote.com?utm_source=created-in-deepnote-cell&projectId=f4c8b7a9-0369-4b3a-9681-56f02d47dcf3' target=\"_blank\">\n<img alt='Created in deepnote.com' style='display:inline;max-height:16px;margin:0px;margin-right:7.5px;' src='data:image/svg+xml;base64,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' > </img>\nCreated in <span style='font-weight:600;margin-left:4px;'>Deepnote</span></a>",
   "metadata": {
    "tags": [],
    "created_in_deepnote_cell": true,
    "deepnote_cell_type": "markdown"
   }
  }
 ],
 "nbformat": 4,
 "nbformat_minor": 2,
 "metadata": {
  "orig_nbformat": 2,
  "deepnote": {
   "is_reactive": false
  },
  "deepnote_notebook_id": "e3c869af-3327-4271-9302-9769af7620bd",
  "deepnote_execution_queue": []
 }
}